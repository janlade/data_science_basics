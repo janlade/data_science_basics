{
 "cells": [
  {
   "cell_type": "code",
   "execution_count": null,
   "id": "269de0a1",
   "metadata": {},
   "outputs": [],
   "source": [
    "import plotly.graph_objects as go\n",
    "import numpy as np\n",
    "np.random.seed(1)\n",
    "\n",
    "N = 100\n",
    "x = np.random.rand(N)\n",
    "y = np.random.rand(N)\n",
    "colors = np.random.rand(N)\n",
    "sz = np.random.rand(N) * 30\n",
    "\n",
    "fig = go.Figure()\n",
    "fig.add_trace(go.Scatter(\n",
    "    x=x,\n",
    "    y=y,\n",
    "    mode=\"markers\",\n",
    "    marker=go.scatter.Marker(\n",
    "        size=sz,\n",
    "        color=colors,\n",
    "        opacity=0.6,\n",
    "        colorscale=\"Viridis\"\n",
    "    )\n",
    "))\n",
    "\n",
    "fig.show()"
   ]
  },
  {
   "cell_type": "code",
   "execution_count": null,
   "id": "7327f06b",
   "metadata": {},
   "outputs": [],
   "source": [
    "import os\n",
    "\n",
    "if not os.path.exists(\"images\"):\n",
    "    os.mkdir(\"images\")"
   ]
  },
  {
   "cell_type": "code",
   "execution_count": null,
   "id": "5a6820d9",
   "metadata": {},
   "outputs": [],
   "source": [
    "fig.write_image(\"images/fig1.jpeg\")"
   ]
  }
 ],
 "metadata": {
  "kernelspec": {
   "display_name": "Python 3 (ipykernel)",
   "language": "python",
   "name": "python3"
  },
  "language_info": {
   "codemirror_mode": {
    "name": "ipython",
    "version": 3
   },
   "file_extension": ".py",
   "mimetype": "text/x-python",
   "name": "python",
   "nbconvert_exporter": "python",
   "pygments_lexer": "ipython3",
   "version": "3.9.15"
  }
 },
 "nbformat": 4,
 "nbformat_minor": 5
}
