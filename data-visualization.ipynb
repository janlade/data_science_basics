{
 "cells": [
  {
   "cell_type": "markdown",
   "metadata": {},
   "source": [
    "### Importiere Bibliotheken"
   ]
  },
  {
   "cell_type": "code",
   "execution_count": 1,
   "metadata": {
    "execution": {
     "iopub.execute_input": "2022-06-10T02:25:28.817529Z",
     "iopub.status.busy": "2022-06-10T02:25:28.817031Z",
     "iopub.status.idle": "2022-06-10T02:25:31.436632Z",
     "shell.execute_reply": "2022-06-10T02:25:31.435811Z",
     "shell.execute_reply.started": "2022-06-10T02:25:28.817398Z"
    }
   },
   "outputs": [],
   "source": [
    "import pandas as pd\n",
    "import numpy as np\n",
    "import matplotlib.pyplot as plt\n",
    "import seaborn as sns\n",
    "from collections import Counter\n",
    "import plotly.express as px"
   ]
  },
  {
   "cell_type": "markdown",
   "metadata": {},
   "source": [
    "### Lese die Daten"
   ]
  },
  {
   "cell_type": "code",
   "execution_count": null,
   "metadata": {
    "execution": {
     "iopub.execute_input": "2022-06-10T02:26:16.758911Z",
     "iopub.status.busy": "2022-06-10T02:26:16.757698Z",
     "iopub.status.idle": "2022-06-10T02:26:16.770518Z",
     "shell.execute_reply": "2022-06-10T02:26:16.769648Z",
     "shell.execute_reply.started": "2022-06-10T02:26:16.758855Z"
    }
   },
   "outputs": [],
   "source": [
    "df = pd.read_csv(\"StudentsPerformance.csv\")"
   ]
  },
  {
   "cell_type": "markdown",
   "metadata": {},
   "source": [
    "### Untersuche den Datensatz"
   ]
  },
  {
   "cell_type": "code",
   "execution_count": null,
   "metadata": {
    "execution": {
     "iopub.execute_input": "2022-06-10T02:26:44.575516Z",
     "iopub.status.busy": "2022-06-10T02:26:44.574770Z",
     "iopub.status.idle": "2022-06-10T02:26:44.605006Z",
     "shell.execute_reply": "2022-06-10T02:26:44.603958Z",
     "shell.execute_reply.started": "2022-06-10T02:26:44.575468Z"
    }
   },
   "outputs": [],
   "source": [
    "df.head(10)"
   ]
  },
  {
   "cell_type": "code",
   "execution_count": null,
   "metadata": {
    "execution": {
     "iopub.execute_input": "2022-06-10T02:26:51.046477Z",
     "iopub.status.busy": "2022-06-10T02:26:51.046063Z",
     "iopub.status.idle": "2022-06-10T02:26:51.077595Z",
     "shell.execute_reply": "2022-06-10T02:26:51.076387Z",
     "shell.execute_reply.started": "2022-06-10T02:26:51.046437Z"
    }
   },
   "outputs": [],
   "source": [
    "df.info()"
   ]
  },
  {
   "cell_type": "markdown",
   "metadata": {},
   "source": [
    ">Der Datensatz enthält 8 Spalten mit 1000 Einträgen.  \n",
    "3 Spalten mit Continuirliche Werten und 5 Spalten mit Diskrete Werten.\n",
    "\n",
    "\n",
    ">Es gibt keine fehlenden Werte im Datensatz.  \n"
   ]
  },
  {
   "cell_type": "code",
   "execution_count": null,
   "metadata": {
    "execution": {
     "iopub.execute_input": "2022-06-10T02:29:28.122761Z",
     "iopub.status.busy": "2022-06-10T02:29:28.122344Z",
     "iopub.status.idle": "2022-06-10T02:29:28.143917Z",
     "shell.execute_reply": "2022-06-10T02:29:28.142998Z",
     "shell.execute_reply.started": "2022-06-10T02:29:28.122720Z"
    }
   },
   "outputs": [],
   "source": [
    "df_1 = df[['gender', 'race/ethnicity', 'parental level of education', 'lunch','test preparation course']]\n",
    "\n",
    "for col in df_1.columns:\n",
    "    if col != ('math score','reading score','writing score'):\n",
    "        print('Count is:',len(Counter(df[col])))\n",
    "        print(df[col].value_counts(),end=\"\\n\")"
   ]
  },
  {
   "cell_type": "code",
   "execution_count": null,
   "metadata": {
    "execution": {
     "iopub.execute_input": "2022-06-10T02:30:26.337629Z",
     "iopub.status.busy": "2022-06-10T02:30:26.337239Z",
     "iopub.status.idle": "2022-06-10T02:30:26.344853Z",
     "shell.execute_reply": "2022-06-10T02:30:26.343777Z",
     "shell.execute_reply.started": "2022-06-10T02:30:26.337587Z"
    }
   },
   "outputs": [],
   "source": [
    "#Berechnung der Gesamtnote\n",
    "\n",
    "x = df['math score']\n",
    "y = df['reading score']\n",
    "z = df['writing score']\n",
    "total_marks = x+y+z\n",
    "\n",
    "df['total marks'] = total_marks"
   ]
  },
  {
   "cell_type": "code",
   "execution_count": null,
   "metadata": {
    "execution": {
     "iopub.execute_input": "2022-06-10T02:30:34.651566Z",
     "iopub.status.busy": "2022-06-10T02:30:34.651083Z",
     "iopub.status.idle": "2022-06-10T02:30:34.667499Z",
     "shell.execute_reply": "2022-06-10T02:30:34.666497Z",
     "shell.execute_reply.started": "2022-06-10T02:30:34.651520Z"
    },
    "scrolled": true
   },
   "outputs": [],
   "source": [
    "df.head(3)"
   ]
  },
  {
   "cell_type": "markdown",
   "metadata": {},
   "source": [
    "### Darstellung der Korrelation von Spalten"
   ]
  },
  {
   "cell_type": "code",
   "execution_count": null,
   "metadata": {
    "execution": {
     "iopub.execute_input": "2022-06-10T03:05:20.453106Z",
     "iopub.status.busy": "2022-06-10T03:05:20.452241Z",
     "iopub.status.idle": "2022-06-10T03:05:20.469200Z",
     "shell.execute_reply": "2022-06-10T03:05:20.468090Z",
     "shell.execute_reply.started": "2022-06-10T03:05:20.453041Z"
    },
    "scrolled": true
   },
   "outputs": [],
   "source": [
    "#sns.heatmap(df.corr(),annot=True,cmap = 'PRGn')\n",
    "\n",
    "import plotly.graph_objects as go\n",
    "\n",
    "corr = df.corr()\n",
    "\n",
    "trace = go.Heatmap(z=corr.values,\n",
    "                  x=corr.index.values,\n",
    "                  y=corr.columns.values)\n",
    "\n",
    "fig = go.Figure()\n",
    "fig.add_trace(trace)\n",
    "fig.show()"
   ]
  },
  {
   "cell_type": "markdown",
   "metadata": {},
   "source": [
    "# Visualisierung der Daten"
   ]
  },
  {
   "cell_type": "markdown",
   "metadata": {},
   "source": [
    "## Balkendiagramm\n",
    "#### Vergleich bei einer diskreten Variable\n",
    "### Gesamtzahl der weiblichen männlichen Studenten"
   ]
  },
  {
   "cell_type": "code",
   "execution_count": null,
   "metadata": {
    "execution": {
     "iopub.execute_input": "2022-06-10T03:03:03.913635Z",
     "iopub.status.busy": "2022-06-10T03:03:03.913215Z",
     "iopub.status.idle": "2022-06-10T03:03:04.006455Z",
     "shell.execute_reply": "2022-06-10T03:03:04.005319Z",
     "shell.execute_reply.started": "2022-06-10T03:03:03.913583Z"
    }
   },
   "outputs": [],
   "source": [
    "print(df['gender'].value_counts())\n",
    "#sns.barplot(x = df['gender'].value_counts().index, y = df['gender'].value_counts().values,palette = \"RdPu\")\n",
    "import plotly.express as px\n",
    "fig = px.bar(df, x='gender', color=\"gender\", title=\"Gesamtzahl der weiblichen männlichen Studenten\",\n",
    "            labels={\n",
    "                     \"gender\": \"Geschlecht\",\n",
    "                     \"count\": \"Anzahl\"\n",
    "                 }\n",
    "            )\n",
    "fig.show()"
   ]
  },
  {
   "cell_type": "markdown",
   "metadata": {},
   "source": [
    "#### Vergleich Race/ethnicity "
   ]
  },
  {
   "cell_type": "code",
   "execution_count": null,
   "metadata": {
    "execution": {
     "iopub.execute_input": "2022-06-10T03:04:00.453903Z",
     "iopub.status.busy": "2022-06-10T03:04:00.453538Z",
     "iopub.status.idle": "2022-06-10T03:04:00.561131Z",
     "shell.execute_reply": "2022-06-10T03:04:00.560156Z",
     "shell.execute_reply.started": "2022-06-10T03:04:00.453868Z"
    }
   },
   "outputs": [],
   "source": [
    "import plotly.express as px\n",
    "fig = px.bar(df, x='race/ethnicity', color=\"race/ethnicity\", title=\"Gesamtzahl der Nationalitäten der Studenten\",\n",
    "            labels={\n",
    "                     \"race/ethnicity\": \"Nationalität\",\n",
    "                     \"count\": \"Anzahl\"\n",
    "                 }\n",
    "            )\n",
    "fig.show()"
   ]
  },
  {
   "cell_type": "markdown",
   "metadata": {},
   "source": [
    "## Balkendiagramm\n",
    "#### Vergleich bei mehreren diskreten Variable"
   ]
  },
  {
   "cell_type": "code",
   "execution_count": null,
   "metadata": {
    "execution": {
     "iopub.execute_input": "2022-06-10T03:13:04.754371Z",
     "iopub.status.busy": "2022-06-10T03:13:04.753664Z",
     "iopub.status.idle": "2022-06-10T03:13:04.930188Z",
     "shell.execute_reply": "2022-06-10T03:13:04.929315Z",
     "shell.execute_reply.started": "2022-06-10T03:13:04.754316Z"
    }
   },
   "outputs": [],
   "source": [
    "import plotly.express as px\n",
    "fig = px.bar(df, x='race/ethnicity', color=\"gender\", title=\"Gesamtzahl der Nationalitäten der Studenten\",\n",
    "            labels={\n",
    "                     \"race/ethnicity\": \"Nationalität\",\n",
    "                     \"gender\": \"Geschlecht\",\n",
    "                     \"count\": \"Anzahl\"\n",
    "                 }\n",
    "            )\n",
    "fig.show()\n",
    "\n",
    "fig = px.bar(df, x='race/ethnicity', color=\"gender\", barmode='group', title=\"Gesamtzahl der Nationalitäten der Studenten\",\n",
    "            labels={\n",
    "                     \"race/ethnicity\": \"Nationalität\",\n",
    "                     \"gender\": \"Geschlecht\",\n",
    "                     \"count\": \"Anzahl\"\n",
    "                 }\n",
    "            )\n",
    "fig.show()"
   ]
  },
  {
   "cell_type": "markdown",
   "metadata": {},
   "source": [
    "### Geschlechtsspezifische Verteilung des elterlichen Bildungsniveaus im Verhältnis zu den Gesamtnoten"
   ]
  },
  {
   "cell_type": "code",
   "execution_count": null,
   "metadata": {
    "execution": {
     "iopub.execute_input": "2022-06-10T03:18:16.917387Z",
     "iopub.status.busy": "2022-06-10T03:18:16.916988Z",
     "iopub.status.idle": "2022-06-10T03:18:17.009958Z",
     "shell.execute_reply": "2022-06-10T03:18:17.008931Z",
     "shell.execute_reply.started": "2022-06-10T03:18:16.917341Z"
    }
   },
   "outputs": [],
   "source": [
    "import plotly.express as px\n",
    "fig = px.bar(df, x='parental level of education',y='total marks', color=\"gender\", title=\"Geschlechtsspezifische Verteilung des elterlichen Bildungsniveaus im Verhältnis zu den Gesamtnoten\",\n",
    "            labels={\n",
    "                     \"total marks\": \"Gesamtnote\",\n",
    "                     \"parental level of education\": \"Bildungsniveau der Eltern\",\n",
    "                     \"count\": \"Anzahl\",\n",
    "                \"gender\": \"Geschlecht\"\n",
    "                 }\n",
    "            )\n",
    "fig.show()\n",
    "\n",
    "\n",
    "fig = px.bar(df, x='parental level of education',y='total marks', barmode='group', color=\"gender\", title=\"Geschlechtsspezifische Verteilung des elterlichen Bildungsniveaus im Verhältnis zu den Gesamtnoten\",\n",
    "            labels={\n",
    "                     \"total marks\": \"Gesamtnote\",\n",
    "                     \"parental level of education\": \"Bildungsniveau der Eltern\",\n",
    "                     \"count\": \"Anzahl\",\n",
    "                \"gender\": \"Geschlecht\"\n",
    "                 }\n",
    "            )\n",
    "fig.show()"
   ]
  },
  {
   "cell_type": "markdown",
   "metadata": {},
   "source": [
    "## Kuchendiagramm\n",
    "#### Vergleich bei einer diskreten Variable"
   ]
  },
  {
   "cell_type": "code",
   "execution_count": null,
   "metadata": {
    "execution": {
     "iopub.execute_input": "2022-06-10T03:23:07.600253Z",
     "iopub.status.busy": "2022-06-10T03:23:07.599763Z",
     "iopub.status.idle": "2022-06-10T03:23:07.664121Z",
     "shell.execute_reply": "2022-06-10T03:23:07.663399Z",
     "shell.execute_reply.started": "2022-06-10T03:23:07.600215Z"
    },
    "scrolled": true
   },
   "outputs": [],
   "source": [
    "fig = px.pie(df, names='gender', title=\"Gesamtzahl der weiblichen männlichen Studenten\",\n",
    "            labels={\n",
    "                     \"gender\": \"Geschlecht\"\n",
    "                 })\n",
    "fig.show()"
   ]
  },
  {
   "cell_type": "markdown",
   "metadata": {},
   "source": [
    "## Kuchendiagramm\n",
    "#### Vergleich bei einer diskreten Variable und einer kontinuierlichen"
   ]
  },
  {
   "cell_type": "code",
   "execution_count": null,
   "metadata": {
    "execution": {
     "iopub.execute_input": "2022-06-10T03:25:28.223239Z",
     "iopub.status.busy": "2022-06-10T03:25:28.222873Z",
     "iopub.status.idle": "2022-06-10T03:25:28.286227Z",
     "shell.execute_reply": "2022-06-10T03:25:28.285381Z",
     "shell.execute_reply.started": "2022-06-10T03:25:28.223200Z"
    }
   },
   "outputs": [],
   "source": [
    "fig = px.pie(df, values='total marks', names='gender', title=\"Geschlechtsspezifische Gesamtnote\")\n",
    "fig.show()"
   ]
  },
  {
   "cell_type": "markdown",
   "metadata": {},
   "source": [
    "## Histogramm\n",
    "### Untersuchung der Verteilung bei kontinuierlichen Variablen"
   ]
  },
  {
   "cell_type": "markdown",
   "metadata": {},
   "source": [
    "### Verteilung Gesamtnote"
   ]
  },
  {
   "cell_type": "code",
   "execution_count": null,
   "metadata": {
    "execution": {
     "iopub.execute_input": "2022-06-10T03:31:16.022422Z",
     "iopub.status.busy": "2022-06-10T03:31:16.021683Z",
     "iopub.status.idle": "2022-06-10T03:31:16.172581Z",
     "shell.execute_reply": "2022-06-10T03:31:16.171594Z",
     "shell.execute_reply.started": "2022-06-10T03:31:16.022351Z"
    }
   },
   "outputs": [],
   "source": [
    "fig = px.histogram(df, x=\"total marks\", title=\"Histogramm für die Gesamtnote\")\n",
    "fig.show()\n",
    "\n",
    "fig = px.histogram(df, x=\"total marks\", nbins=10)\n",
    "fig.show()"
   ]
  },
  {
   "cell_type": "markdown",
   "metadata": {},
   "source": [
    "## Histogramm bei diskreten Variablen"
   ]
  },
  {
   "cell_type": "code",
   "execution_count": null,
   "metadata": {
    "execution": {
     "iopub.execute_input": "2022-06-10T03:32:44.224219Z",
     "iopub.status.busy": "2022-06-10T03:32:44.223186Z",
     "iopub.status.idle": "2022-06-10T03:32:44.307590Z",
     "shell.execute_reply": "2022-06-10T03:32:44.306588Z",
     "shell.execute_reply.started": "2022-06-10T03:32:44.224144Z"
    },
    "scrolled": true
   },
   "outputs": [],
   "source": [
    "fig = px.histogram(df, x=\"parental level of education\")\n",
    "fig.show()\n"
   ]
  },
  {
   "cell_type": "markdown",
   "metadata": {},
   "source": [
    "## Boxplot\n",
    "##### Ein Boxplot ist eine statistische Darstellung der Verteilung einer Variablen durch ihre Quartile. Die Enden der Box stellen das untere und das obere Quartil dar, während der Median (zweites Quartil) durch eine Linie innerhalb der Box markiert ist. "
   ]
  },
  {
   "cell_type": "code",
   "execution_count": null,
   "metadata": {},
   "outputs": [],
   "source": [
    "fig = px.box(df, y=\"total marks\",\n",
    "             labels={\n",
    "                     \"total marks\": \"Gesamtnote\"\n",
    "                 },\n",
    "                title=\"Verteilung der Gesamtnote\")\n",
    "fig.show()"
   ]
  },
  {
   "cell_type": "markdown",
   "metadata": {},
   "source": [
    "## Punktdiagramm\n",
    "## Verteilung bei mehreren Variablen"
   ]
  },
  {
   "cell_type": "code",
   "execution_count": null,
   "metadata": {
    "execution": {
     "iopub.execute_input": "2022-06-10T03:09:33.753935Z",
     "iopub.status.busy": "2022-06-10T03:09:33.753107Z",
     "iopub.status.idle": "2022-06-10T03:09:37.327093Z",
     "shell.execute_reply": "2022-06-10T03:09:37.326398Z",
     "shell.execute_reply.started": "2022-06-10T03:09:33.753870Z"
    }
   },
   "outputs": [],
   "source": [
    "fig = px.scatter(df, y=\"total marks\", color=\"gender\",\n",
    "                 labels={\n",
    "                     \"total marks\": \"Gesamtnote\",\n",
    "                     \"gender\": \"Geschlecht\"\n",
    "                 },\n",
    "                title=\"Geschlechtsspezifische Verteilung der Gesamtnote\")\n",
    "fig.show()"
   ]
  },
  {
   "cell_type": "markdown",
   "metadata": {},
   "source": [
    "## Beziehungen zwieschen Variablen"
   ]
  },
  {
   "cell_type": "code",
   "execution_count": null,
   "metadata": {
    "execution": {
     "iopub.execute_input": "2022-02-10T06:06:37.009942Z",
     "iopub.status.busy": "2022-02-10T06:06:37.009699Z",
     "iopub.status.idle": "2022-02-10T06:06:40.140887Z",
     "shell.execute_reply": "2022-02-10T06:06:40.140007Z",
     "shell.execute_reply.started": "2022-02-10T06:06:37.009912Z"
    },
    "scrolled": true
   },
   "outputs": [],
   "source": [
    "fig = px.scatter(df, x=\"writing score\", y=\"total marks\", color=\"gender\",\n",
    "                 labels={\n",
    "                     \"total marks\": \"Gesamtnote\",\n",
    "                     \"writing score\": \"Schriftliche Note\",\n",
    "                     \"gender\": \"Geschlecht\"\n",
    "                 },\n",
    "                title=\"Geschlechtsspezifische Verteilung der Gesamtnote vs Schriftliche Note\")\n",
    "fig.show()\n"
   ]
  },
  {
   "cell_type": "markdown",
   "metadata": {},
   "source": [
    "## Blasendiagramm"
   ]
  },
  {
   "cell_type": "code",
   "execution_count": null,
   "metadata": {},
   "outputs": [],
   "source": [
    "\n",
    "\n",
    "fig = px.scatter(df, x=\"writing score\", y=\"total marks\", color=\"gender\",\n",
    "                 size='reading score',\n",
    "                 labels={\n",
    "                     \"total marks\": \"Gesamtnote\",\n",
    "                     \"writing score\": \"Schriftliche Note\",\n",
    "                     \"gender\": \"Geschlecht\"\n",
    "                 },\n",
    "                title=\"Geschlechtsspezifische Verteilung der Gesamtnote vs Schriftliche Note\")\n",
    "\n",
    "fig.show()"
   ]
  },
  {
   "cell_type": "markdown",
   "metadata": {},
   "source": [
    "### Beziehungen zwieschen Variablen und Korrelation"
   ]
  },
  {
   "cell_type": "code",
   "execution_count": null,
   "metadata": {
    "execution": {
     "iopub.execute_input": "2022-02-10T06:06:40.14215Z",
     "iopub.status.busy": "2022-02-10T06:06:40.141952Z"
    }
   },
   "outputs": [],
   "source": [
    "df_kont = df.copy()\n",
    "df_kont = df_kont[['writing score', 'total marks', 'math score', 'reading score']]\n",
    "fig = px.scatter_matrix(df_kont)\n",
    "\n",
    "fig.show()"
   ]
  },
  {
   "cell_type": "code",
   "execution_count": null,
   "metadata": {
    "execution": {
     "iopub.execute_input": "2022-02-10T06:24:03.452714Z",
     "iopub.status.busy": "2022-02-10T06:24:03.452167Z",
     "iopub.status.idle": "2022-02-10T06:24:04.119676Z",
     "shell.execute_reply": "2022-02-10T06:24:04.119015Z",
     "shell.execute_reply.started": "2022-02-10T06:24:03.45267Z"
    }
   },
   "outputs": [],
   "source": [
    "fig = px.scatter_matrix(df,\n",
    "    dimensions=['writing score', 'total marks', 'math score', 'reading score'],\n",
    "    color=\"gender\")\n",
    "fig.show()"
   ]
  },
  {
   "cell_type": "code",
   "execution_count": null,
   "metadata": {
    "execution": {
     "iopub.execute_input": "2022-02-10T06:24:20.542311Z",
     "iopub.status.busy": "2022-02-10T06:24:20.541532Z",
     "iopub.status.idle": "2022-02-10T06:24:21.777018Z",
     "shell.execute_reply": "2022-02-10T06:24:21.776258Z",
     "shell.execute_reply.started": "2022-02-10T06:24:20.542255Z"
    }
   },
   "outputs": [],
   "source": [
    "fig = px.scatter_matrix(df,\n",
    "    dimensions=['writing score', 'total marks', 'math score', 'reading score'],\n",
    "    color=\"race/ethnicity\", symbol=\"race/ethnicity\")\n",
    "fig.show()"
   ]
  },
  {
   "cell_type": "markdown",
   "metadata": {},
   "source": [
    "## Lineare Regression"
   ]
  },
  {
   "cell_type": "code",
   "execution_count": null,
   "metadata": {},
   "outputs": [],
   "source": [
    "#pip install statsmodels \n",
    "fig = px.scatter(df, x=\"writing score\", y=\"total marks\", trendline=\"ols\")\n",
    "fig.show()\n",
    "\n",
    "\n"
   ]
  },
  {
   "cell_type": "markdown",
   "metadata": {},
   "source": [
    "## Zeitreihe- Liniendiagramm"
   ]
  },
  {
   "cell_type": "code",
   "execution_count": null,
   "metadata": {
    "execution": {
     "iopub.execute_input": "2022-02-10T06:24:31.187226Z",
     "iopub.status.busy": "2022-02-10T06:24:31.186913Z",
     "iopub.status.idle": "2022-02-10T06:24:31.889313Z",
     "shell.execute_reply": "2022-02-10T06:24:31.888593Z",
     "shell.execute_reply.started": "2022-02-10T06:24:31.187196Z"
    }
   },
   "outputs": [],
   "source": [
    "df_zeitreihe = pd.read_csv(\"london_weather.csv\")\n",
    "\n",
    "df_zeitreihe.head()\n",
    "df_zeitreihe.info()\n",
    "\n",
    "df_zeitreihe['date'] = pd.to_datetime(df_zeitreihe['date'], format='%Y%m%d')\n",
    "\n",
    "df_zeitreihe.head()\n",
    "df_zeitreihe.info()"
   ]
  },
  {
   "cell_type": "code",
   "execution_count": null,
   "metadata": {},
   "outputs": [],
   "source": [
    "fig = px.line(df_zeitreihe, x='date', y='sunshine')\n",
    "fig.show()"
   ]
  },
  {
   "cell_type": "code",
   "execution_count": null,
   "metadata": {},
   "outputs": [],
   "source": []
  }
 ],
 "metadata": {
  "kernelspec": {
   "display_name": "Python 3 (ipykernel)",
   "language": "python",
   "name": "python3"
  },
  "language_info": {
   "codemirror_mode": {
    "name": "ipython",
    "version": 3
   },
   "file_extension": ".py",
   "mimetype": "text/x-python",
   "name": "python",
   "nbconvert_exporter": "python",
   "pygments_lexer": "ipython3",
   "version": "3.9.15"
  },
  "pycharm": {
   "stem_cell": {
    "cell_type": "raw",
    "metadata": {
     "collapsed": false
    },
    "source": []
   }
  }
 },
 "nbformat": 4,
 "nbformat_minor": 4
}
